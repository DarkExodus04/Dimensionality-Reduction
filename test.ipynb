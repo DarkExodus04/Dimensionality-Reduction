{
 "cells": [
  {
   "cell_type": "code",
   "execution_count": 8,
   "id": "2d929823-be4d-4799-b5f9-fc798c3f05fe",
   "metadata": {},
   "outputs": [],
   "source": [
    "from sklearn.pipeline import Pipeline\n",
    "from sklearn.model_selection import KFold, ShuffleSplit, StratifiedKFold, GridSearchCV\n",
    "from sklearn.metrics import confusion_matrix, roc_curve, classification_report\n",
    "from sklearn.feature_selection import RFE\n",
    "from sklearn.linear_model import LogisticRegression\n",
    "from sklearn.ensemble import RandomForestClassifier\n",
    "from sklearn.preprocessing import MinMaxScaler\n",
    "from sklearn.decomposition import PCA\n",
    "from sklearn.pipeline import Pipeline\n",
    "from sklearn.metrics import accuracy_score\n",
    "from sklearn.manifold import MDS, Isomap\n",
    "from sklearn.manifold import LocallyLinearEmbedding as LLE\n",
    "from sklearn.discriminant_analysis import LinearDiscriminantAnalysis as LDA\n",
    "from sklearn.manifold import TSNE\n",
    "import joblib, random\n",
    "import numpy as np\n",
    "import cv2\n",
    "from sklearn.metrics import mean_squared_error\n",
    "import matplotlib.pyplot as plt\n",
    "%matplotlib inline\n",
    "plt.style.use('bmh')"
   ]
  },
  {
   "cell_type": "code",
   "execution_count": 9,
   "id": "4f843e74-d801-4e70-b24b-4f69ea0aed6a",
   "metadata": {
    "tags": []
   },
   "outputs": [],
   "source": [
    "class_names = ['a', 'b', 'c', 'd', 'e', 'f', 'g', 'h', '$', '#']"
   ]
  },
  {
   "cell_type": "code",
   "execution_count": 10,
   "id": "b93c7ae9-246a-452e-b89e-e31694894ed1",
   "metadata": {
    "tags": []
   },
   "outputs": [
    {
     "name": "stdout",
     "output_type": "stream",
     "text": [
      "(2880, 90000) (2880,)\n"
     ]
    }
   ],
   "source": [
    "# Loading Test Data\n",
    "X_test = np.load('Data/data_test.npy').T\n",
    "t_test = np.load('Data/labels_test.npy')\n",
    "\n",
    "print(X_test.shape, t_test.shape)"
   ]
  },
  {
   "cell_type": "code",
   "execution_count": 11,
   "id": "3f46deb0-e949-48b5-b22d-d9745b35d884",
   "metadata": {
    "tags": []
   },
   "outputs": [
    {
     "data": {
      "text/plain": [
       "(2880, 2500)"
      ]
     },
     "execution_count": 11,
     "metadata": {},
     "output_type": "execute_result"
    }
   ],
   "source": [
    "#Resizing the image since kernel was dying.\n",
    "\n",
    "NEW_SIZE = (50,50)\n",
    "INTERPOLATION = cv2.INTER_CUBIC\n",
    "data = []\n",
    "\n",
    "for i in range(2880):\n",
    "    img = X_test[i,:].reshape(300,300)\n",
    "    img = cv2.resize(img, NEW_SIZE[::-1], interpolation=INTERPOLATION)\n",
    "    data.append(img.flatten())\n",
    "\n",
    "X_test_resized = np.array(data)\n",
    "X_test_resized.shape"
   ]
  },
  {
   "cell_type": "markdown",
   "id": "da1be330-4e6b-453c-92d2-2fa271cff974",
   "metadata": {},
   "source": [
    "#### 1: RFE"
   ]
  },
  {
   "cell_type": "markdown",
   "id": "2340bd83-b5e1-4926-b648-87df8d58a340",
   "metadata": {},
   "source": [
    "##### Estimator 1: Logistic Regression"
   ]
  },
  {
   "cell_type": "code",
   "execution_count": 7,
   "id": "63e5dfd2-c44b-43f7-84b3-d2215f00a885",
   "metadata": {
    "tags": []
   },
   "outputs": [
    {
     "name": "stdout",
     "output_type": "stream",
     "text": [
      "Feature size: 700\n"
     ]
    }
   ],
   "source": [
    "#Tranformation into lower dimension\n",
    "LR_RFE = joblib.load('Models/LR_RFE1.pkl')\n",
    "x_test_lr=LR_RFE.transform(X_test_resized)\n",
    "\n",
    "print(\"Feature size:\",x_test_lr.shape[1])\n"
   ]
  },
  {
   "cell_type": "code",
   "execution_count": 22,
   "id": "cc69d091-597a-4b23-9371-1cd518bfdd53",
   "metadata": {
    "tags": []
   },
   "outputs": [
    {
     "name": "stdout",
     "output_type": "stream",
     "text": [
      "\n",
      "\n",
      "Training Set Performance for Logistic Regression Classifier\n",
      "Accuracy Score: 0.35555555555555557\n",
      "Confusion Matrix:\n",
      "[[109  17  26  24  13   8  20  33  13  12]\n",
      " [ 14  91  19  16  17  17  19  45  18  14]\n",
      " [ 19  15 133  10  33  16  19  18  11  13]\n",
      " [ 38  12  29  98  16  17  32  18  16  19]\n",
      " [ 19  23  61  21  87  25  19  24  18  12]\n",
      " [  7  24  28  23  14  99  23  19  45  15]\n",
      " [ 18  18  23  29  11  22 109  14  26  21]\n",
      " [ 22  30  40  14  14   8  13 114  10  13]\n",
      " [ 23  19  17  26   6  29  43  15  92  22]\n",
      " [ 19  18  10  19  28  23  27  26  24  92]]\n",
      "Performance Report: \n",
      "              precision    recall  f1-score   support\n",
      "\n",
      "         0.0       0.38      0.40      0.39       275\n",
      "         1.0       0.34      0.34      0.34       270\n",
      "         2.0       0.34      0.46      0.40       287\n",
      "         3.0       0.35      0.33      0.34       295\n",
      "         4.0       0.36      0.28      0.32       309\n",
      "         5.0       0.38      0.33      0.35       297\n",
      "         6.0       0.34      0.37      0.35       291\n",
      "         7.0       0.35      0.41      0.38       278\n",
      "         8.0       0.34      0.32      0.33       292\n",
      "         9.0       0.39      0.32      0.35       286\n",
      "\n",
      "    accuracy                           0.36      2880\n",
      "   macro avg       0.36      0.36      0.35      2880\n",
      "weighted avg       0.36      0.36      0.35      2880\n",
      "\n",
      "\n",
      "\n",
      "\n"
     ]
    }
   ],
   "source": [
    "y_test_lr=LR_RFE.predict(X_test_resized)\n",
    "print('\\n\\nTraining Set Performance for Logistic Regression Classifier')\n",
    "print('Accuracy Score:', accuracy_score(t_test, y_test_lr))\n",
    "\n",
    "print('Confusion Matrix:')\n",
    "print(confusion_matrix(t_test, y_test_lr))\n",
    "print('Performance Report: ')\n",
    "print(classification_report(t_test, y_test_lr))\n",
    "print('\\n\\n')"
   ]
  },
  {
   "cell_type": "code",
   "execution_count": 19,
   "id": "90955223-d3b0-41be-b901-d39afd376ed4",
   "metadata": {
    "tags": []
   },
   "outputs": [],
   "source": [
    "x_test_lr=LR_RFE.transform(X_test_resized)"
   ]
  },
  {
   "cell_type": "markdown",
   "id": "83afb42e-5d56-48b0-a825-1b4d51c062c5",
   "metadata": {
    "tags": []
   },
   "source": [
    "##### Estimator 2: Random Forest"
   ]
  },
  {
   "cell_type": "code",
   "execution_count": 25,
   "id": "c65ce6f3-a74e-4278-84d8-55d37caf12fe",
   "metadata": {
    "tags": []
   },
   "outputs": [
    {
     "name": "stdout",
     "output_type": "stream",
     "text": [
      "Feature size: 1000\n"
     ]
    }
   ],
   "source": [
    "#Tranformation into lower dimension\n",
    "RF_RFE = joblib.load('Models/Random_Forest_RFE1.pkl')\n",
    "x_test_rf=RF_RFE.transform(X_test_resized)\n",
    "\n",
    "print(\"Feature size:\",x_test_rf.shape[1])"
   ]
  },
  {
   "cell_type": "code",
   "execution_count": 26,
   "id": "f907c656-ee6b-4414-8e46-db34da3eed45",
   "metadata": {
    "tags": []
   },
   "outputs": [
    {
     "name": "stdout",
     "output_type": "stream",
     "text": [
      "\n",
      "\n",
      "Training Set Performance for Random Forest Classifier\n",
      "Accuracy Score: 0.4309027777777778\n",
      "Confusion Matrix:\n",
      "[[128  18  26  20   9  16  17  15  11  15]\n",
      " [ 21 101  35  10  17  20   6  35  17   8]\n",
      " [ 14  18 195   5  22  13   9   9   1   1]\n",
      " [ 34  18  34 111  10  19  24  18  16  11]\n",
      " [ 18  23  62  10 123  22  16  16  10   9]\n",
      " [ 18  27  41  16  13 108  20  16  30   8]\n",
      " [ 24  14  26  26  11  19 122  12  19  18]\n",
      " [ 22  45  43  11   9  15  11 103  10   9]\n",
      " [ 15  22  18  11   2  39  24  16 131  14]\n",
      " [ 23  18  23  20  10  18  19  16  20 119]]\n",
      "Performance Report: \n",
      "              precision    recall  f1-score   support\n",
      "\n",
      "         0.0       0.40      0.47      0.43       275\n",
      "         1.0       0.33      0.37      0.35       270\n",
      "         2.0       0.39      0.68      0.49       287\n",
      "         3.0       0.46      0.38      0.41       295\n",
      "         4.0       0.54      0.40      0.46       309\n",
      "         5.0       0.37      0.36      0.37       297\n",
      "         6.0       0.46      0.42      0.44       291\n",
      "         7.0       0.40      0.37      0.39       278\n",
      "         8.0       0.49      0.45      0.47       292\n",
      "         9.0       0.56      0.42      0.48       286\n",
      "\n",
      "    accuracy                           0.43      2880\n",
      "   macro avg       0.44      0.43      0.43      2880\n",
      "weighted avg       0.44      0.43      0.43      2880\n",
      "\n",
      "\n",
      "\n",
      "\n"
     ]
    }
   ],
   "source": [
    "\n",
    "\n",
    "y_test_rf=RF_RFE.predict(X_test_resized)\n",
    "print('\\n\\nTraining Set Performance for Random Forest Classifier')\n",
    "print('Accuracy Score:', accuracy_score(t_test, y_test_rf))\n",
    "\n",
    "print('Confusion Matrix:')\n",
    "print(confusion_matrix(t_test, y_test_rf))\n",
    "print('Performance Report: ')\n",
    "print(classification_report(t_test, y_test_rf))\n",
    "print('\\n\\n')"
   ]
  },
  {
   "cell_type": "code",
   "execution_count": null,
   "id": "3618d741-5bd2-4ebd-8581-8296758ff0a7",
   "metadata": {},
   "outputs": [],
   "source": []
  },
  {
   "cell_type": "markdown",
   "id": "3179ac63-fcd0-4bd6-a2c7-05be790e39ac",
   "metadata": {},
   "source": [
    "#### 2: PCA"
   ]
  },
  {
   "cell_type": "code",
   "execution_count": 31,
   "id": "ca7a599f-1fea-49cd-ba78-44f268659e91",
   "metadata": {
    "tags": []
   },
   "outputs": [
    {
     "name": "stdout",
     "output_type": "stream",
     "text": [
      "Feature size: 182\n"
     ]
    }
   ],
   "source": [
    "#Tranformation into lower dimension\n",
    "PCA = joblib.load('Models/PCA2.pkl')\n",
    "\n",
    "x_test_pca=PCA.transform(X_test_resized)\n",
    "\n",
    "print(\"Feature size:\",x_test_pca.shape[1])"
   ]
  },
  {
   "cell_type": "code",
   "execution_count": 33,
   "id": "8c2a585b-0d7b-490a-aeea-aa923832508f",
   "metadata": {
    "tags": []
   },
   "outputs": [
    {
     "name": "stdout",
     "output_type": "stream",
     "text": [
      "Training Set Performance for model with PCA\n",
      "Accuracy Score: 0.3958333333333333\n",
      "Confusion Matrix:\n",
      "[[124  13  28  23  16   4  16  28  12  11]\n",
      " [ 13  97  20  20  15  13  12  44  18  18]\n",
      " [ 11  17 153  23  27   9  19  17   3   8]\n",
      " [ 47  13  31 117  14  21  26  11   9   6]\n",
      " [ 19  24  59  20 102  29  16  17   9  14]\n",
      " [  8  21  30  25  19 114  23  17  32   8]\n",
      " [ 21  15  15  28  13  21 123  12  24  19]\n",
      " [ 24  36  33  18  18   7   4 116  11  11]\n",
      " [ 14  24   9  16  10  31  40  21 102  25]\n",
      " [ 11  11  17  21  31  27  23  30  23  92]]\n",
      "\n",
      "Performance Report: \n",
      "              precision    recall  f1-score   support\n",
      "\n",
      "         0.0       0.42      0.45      0.44       275\n",
      "         1.0       0.36      0.36      0.36       270\n",
      "         2.0       0.39      0.53      0.45       287\n",
      "         3.0       0.38      0.40      0.39       295\n",
      "         4.0       0.38      0.33      0.36       309\n",
      "         5.0       0.41      0.38      0.40       297\n",
      "         6.0       0.41      0.42      0.41       291\n",
      "         7.0       0.37      0.42      0.39       278\n",
      "         8.0       0.42      0.35      0.38       292\n",
      "         9.0       0.43      0.32      0.37       286\n",
      "\n",
      "    accuracy                           0.40      2880\n",
      "   macro avg       0.40      0.40      0.39      2880\n",
      "weighted avg       0.40      0.40      0.39      2880\n",
      "\n",
      "\n",
      "\n",
      "\n"
     ]
    }
   ],
   "source": [
    "#Performance for with classifier with PCA\n",
    "PCA = joblib.load('Models/LR_PCA2.pkl')\n",
    "\n",
    "y_test1 = PCA.predict(X_test_resized)\n",
    "\n",
    "print('Test Set Performance for model with PCA')\n",
    "print('Accuracy Score:', accuracy_score(t_test, y_test1))\n",
    "print('Confusion Matrix:')\n",
    "print(confusion_matrix(t_test,y_test1))\n",
    "print('\\nPerformance Report: ')\n",
    "print(classification_report(t_test,y_test1))\n",
    "print('\\n\\n')"
   ]
  },
  {
   "cell_type": "code",
   "execution_count": 35,
   "id": "2bce902a-9295-4518-b90f-88eeaec2abfd",
   "metadata": {
    "tags": []
   },
   "outputs": [
    {
     "name": "stdout",
     "output_type": "stream",
     "text": [
      "Test Set Performance for model without PCA\n",
      "Accuracy Score: 0.34930555555555554\n",
      "Confusion Matrix:\n",
      "[[110  13  23  31  10  13  24  22  18  11]\n",
      " [ 20  86  22  19  15  11  22  42  16  17]\n",
      " [ 21  13 139  12  37  12  19  14  10  10]\n",
      " [ 43  16  26  98  22  21  25  11  15  18]\n",
      " [ 23  20  59  18  80  33  26  15  14  21]\n",
      " [ 12  22  26  20  20 102  27  16  37  15]\n",
      " [ 17  15  26  19  13  28 117   8  22  26]\n",
      " [ 33  27  37  12  10  11  12 115  12   9]\n",
      " [ 20  23  14  16   8  28  57  21  80  25]\n",
      " [ 28  15  19  21  28  22  24  26  24  79]]\n",
      "\n",
      "Performance Report: \n",
      "              precision    recall  f1-score   support\n",
      "\n",
      "         0.0       0.34      0.40      0.37       275\n",
      "         1.0       0.34      0.32      0.33       270\n",
      "         2.0       0.36      0.48      0.41       287\n",
      "         3.0       0.37      0.33      0.35       295\n",
      "         4.0       0.33      0.26      0.29       309\n",
      "         5.0       0.36      0.34      0.35       297\n",
      "         6.0       0.33      0.40      0.36       291\n",
      "         7.0       0.40      0.41      0.40       278\n",
      "         8.0       0.32      0.27      0.30       292\n",
      "         9.0       0.34      0.28      0.31       286\n",
      "\n",
      "    accuracy                           0.35      2880\n",
      "   macro avg       0.35      0.35      0.35      2880\n",
      "weighted avg       0.35      0.35      0.35      2880\n",
      "\n",
      "\n",
      "\n",
      "\n"
     ]
    }
   ],
   "source": [
    "#Performance for with classifier without PCA\n",
    "NOPCA = joblib.load('Models/LR_NOPCA2.pkl')\n",
    "\n",
    "y_test2 = NOPCA.predict(X_test_resized)\n",
    "\n",
    "print('Test Set Performance for model without PCA')\n",
    "print('Accuracy Score:', accuracy_score(t_test, y_test2))\n",
    "print('Confusion Matrix:')\n",
    "print(confusion_matrix(t_test,y_test2))\n",
    "print('\\nPerformance Report: ')\n",
    "print(classification_report(t_test,y_test2))\n",
    "print('\\n\\n')"
   ]
  },
  {
   "cell_type": "markdown",
   "id": "70ac62d4-667e-4f46-9041-ef150d3a660e",
   "metadata": {},
   "source": [
    "#### 3: Fisher's LDA and t-SNE"
   ]
  },
  {
   "cell_type": "code",
   "execution_count": 14,
   "id": "7cc2c521-b065-4c62-a21e-14b09f070dea",
   "metadata": {
    "tags": []
   },
   "outputs": [
    {
     "name": "stdout",
     "output_type": "stream",
     "text": [
      "Feature size: 8\n"
     ]
    },
    {
     "name": "stderr",
     "output_type": "stream",
     "text": [
      "/scratch/local/15693744/ipykernel_3771019/3406836565.py:13: MatplotlibDeprecationWarning: Auto-removal of grids by pcolor() and pcolormesh() is deprecated since 3.5 and will be removed two minor releases later; please call grid(False) first.\n",
      "  plt.colorbar();\n"
     ]
    },
    {
     "data": {
      "image/png": "[encoded data removed]",
      "text/plain": [
       "<Figure size 432x288 with 2 Axes>"
      ]
     },
     "metadata": {
      "needs_background": "light"
     },
     "output_type": "display_data"
    }
   ],
   "source": [
    "#Tranformation into lower dimension for FLDA\n",
    "LDA = joblib.load('Models/LR_LDA3.pkl')\n",
    "\n",
    "x_test_lda=LDA.transform(X_test_resized)\n",
    "\n",
    "print(\"Feature size:\",x_test_lda.shape[1])\n",
    "\n",
    "\n",
    "plt.scatter(x_test_lda[:,0], x_test_lda[:,1], c=t_test, cmap=plt.cm.get_cmap('rainbow', 10))\n",
    "plt.title('LDA', fontsize=15)\n",
    "plt.xlabel(\"Component 1\")\n",
    "plt.ylabel(\"Component 2\")\n",
    "plt.colorbar();"
   ]
  },
  {
   "cell_type": "code",
   "execution_count": 15,
   "id": "af0141c3-93a9-4a99-9ed6-51a67b477be6",
   "metadata": {
    "tags": []
   },
   "outputs": [
    {
     "name": "stdout",
     "output_type": "stream",
     "text": [
      "Feature size: 3\n"
     ]
    },
    {
     "name": "stderr",
     "output_type": "stream",
     "text": [
      "/apps/python/3.10/lib/python3.10/site-packages/matplotlib/collections.py:981: RuntimeWarning: invalid value encountered in sqrt\n",
      "  scale = np.sqrt(self._sizes) * dpi / 72.0 * self._factor\n",
      "/scratch/local/15693744/ipykernel_3771019/944551577.py:13: MatplotlibDeprecationWarning: Auto-removal of grids by pcolor() and pcolormesh() is deprecated since 3.5 and will be removed two minor releases later; please call grid(False) first.\n",
      "  plt.colorbar();\n"
     ]
    },
    {
     "data": {
      "image/png": "[encoded data removed]",
      "text/plain": [
       "<Figure size 432x288 with 2 Axes>"
      ]
     },
     "metadata": {
      "needs_background": "light"
     },
     "output_type": "display_data"
    }
   ],
   "source": [
    "#Tranformation into lower dimension for t-SNE         ??\n",
    "#t-SNE is used for visualization\n",
    "\n",
    "SNE = joblib.load('Models/LR_tSNE3.pkl')\n",
    "\n",
    "x_test_sne = SNE.fit_transform(X_test_resized)\n",
    "print(\"Feature size:\",x_test_sne.shape[1])\n",
    "\n",
    "plt.scatter(x_test_sne[:,0], x_test_sne[:,1],x_test_sne[:,2], c=t_test, cmap=plt.cm.get_cmap('rainbow', 10))\n",
    "plt.title(\"t-SNE\")\n",
    "plt.xlabel(\"Component 1\")\n",
    "plt.ylabel(\"Component 2\")\n",
    "plt.colorbar();"
   ]
  },
  {
   "cell_type": "markdown",
   "id": "5922a86f-ba92-4da0-9988-6bd98cbc2080",
   "metadata": {},
   "source": [
    "#### 4: Manifold Learning"
   ]
  },
  {
   "cell_type": "code",
   "execution_count": 19,
   "id": "ce11a63b-becb-4725-b127-fa79d6239401",
   "metadata": {
    "tags": []
   },
   "outputs": [
    {
     "name": "stdout",
     "output_type": "stream",
     "text": [
      "Feature size: 300\n",
      "\n",
      "\n",
      " Test Set Performance for MDS\n",
      "Accuracy Score: 0.103125\n",
      "Confusion Matrix:\n",
      "[[37 25 24 57 24 20 20 17 36 15]\n",
      " [32 22 20 75 21 12 14 29 29 16]\n",
      " [45 23 25 75 22 17 18 22 29 11]\n",
      " [40 34 22 79 17 18 28 18 23 16]\n",
      " [39 37 28 78 22 22 18 19 28 18]\n",
      " [48 37 23 71 29 12  9 18 29 21]\n",
      " [27 27 20 89 18 14 23 30 24 19]\n",
      " [43 32 19 79 15 11 12 21 31 15]\n",
      " [38 29 15 96 25 15 15 13 24 22]\n",
      " [24 33 17 80 14 14 15 27 30 32]]\n",
      "\n",
      "Performance Report: \n",
      "              precision    recall  f1-score   support\n",
      "\n",
      "         0.0       0.10      0.13      0.11       275\n",
      "         1.0       0.07      0.08      0.08       270\n",
      "         2.0       0.12      0.09      0.10       287\n",
      "         3.0       0.10      0.27      0.15       295\n",
      "         4.0       0.11      0.07      0.09       309\n",
      "         5.0       0.08      0.04      0.05       297\n",
      "         6.0       0.13      0.08      0.10       291\n",
      "         7.0       0.10      0.08      0.09       278\n",
      "         8.0       0.08      0.08      0.08       292\n",
      "         9.0       0.17      0.11      0.14       286\n",
      "\n",
      "    accuracy                           0.10      2880\n",
      "   macro avg       0.11      0.10      0.10      2880\n",
      "weighted avg       0.11      0.10      0.10      2880\n",
      "\n",
      "\n",
      "\n",
      "\n"
     ]
    }
   ],
   "source": [
    "#Tranformation into lower dimension for tMDS\n",
    "MDS = joblib.load('Models/MDS4.pkl')\n",
    "clf = joblib.load('Models/MDSclf.pkl')\n",
    "\n",
    "x_test_mds = MDS.fit_transform(X_test_resized)\n",
    "\n",
    "print(\"Feature size:\",x_test_mds.shape[1])\n",
    "\n",
    "y_test = clf.predict(x_test_mds)\n",
    "\n",
    "print('\\n\\n Test Set Performance for MDS')\n",
    "print('Accuracy Score:', accuracy_score(t_test, y_test))\n",
    "print('Confusion Matrix:')\n",
    "print(confusion_matrix(t_test,y_test))\n",
    "print('\\nPerformance Report: ')\n",
    "print(classification_report(t_test,y_test))\n",
    "print('\\n\\n')\n"
   ]
  },
  {
   "cell_type": "code",
   "execution_count": 20,
   "id": "0ec23f02-ed29-40c2-bb03-89e6a694edf8",
   "metadata": {
    "tags": []
   },
   "outputs": [
    {
     "name": "stdout",
     "output_type": "stream",
     "text": [
      "Feature size: 182\n",
      "\n",
      "\n",
      " Test Set Performance for LLE\n",
      "Accuracy Score: 0.10729166666666666\n",
      "Confusion Matrix:\n",
      "[[18 27 49 26 11 22 22 28 46 26]\n",
      " [32 32 30 21 25 17 23 48 24 18]\n",
      " [30 31 52 17 29 20 25 32 27 24]\n",
      " [29 22 32 31 19 37 19 34 49 23]\n",
      " [33 28 44 33 14 33 20 39 38 27]\n",
      " [38 34 30 14 19 33 16 40 41 32]\n",
      " [37 32 31 21 32 30 22 23 42 21]\n",
      " [45 30 21 22 13 42 16 45 23 21]\n",
      " [34 31 37 23 31 23 21 33 47 12]\n",
      " [49 31 24 33 18 33 17 34 32 15]]\n",
      "\n",
      "Performance Report: \n",
      "              precision    recall  f1-score   support\n",
      "\n",
      "         0.0       0.05      0.07      0.06       275\n",
      "         1.0       0.11      0.12      0.11       270\n",
      "         2.0       0.15      0.18      0.16       287\n",
      "         3.0       0.13      0.11      0.12       295\n",
      "         4.0       0.07      0.05      0.05       309\n",
      "         5.0       0.11      0.11      0.11       297\n",
      "         6.0       0.11      0.08      0.09       291\n",
      "         7.0       0.13      0.16      0.14       278\n",
      "         8.0       0.13      0.16      0.14       292\n",
      "         9.0       0.07      0.05      0.06       286\n",
      "\n",
      "    accuracy                           0.11      2880\n",
      "   macro avg       0.10      0.11      0.10      2880\n",
      "weighted avg       0.10      0.11      0.10      2880\n",
      "\n",
      "\n",
      "\n",
      "\n"
     ]
    }
   ],
   "source": [
    "#Tranformation into lower dimension for LLE\n",
    "\n",
    "LLE = joblib.load('Models/LLE4.pkl')\n",
    "clf = joblib.load('Models/lleclf.pkl')\n",
    "\n",
    "x_test_lle = LLE.fit_transform(X_test_resized) # ?????\n",
    "\n",
    "print(\"Feature size:\",x_test_lle.shape[1])\n",
    "\n",
    "y_test = clf.predict(x_test_lle)\n",
    "\n",
    "print('\\n\\n Test Set Performance for LLE')\n",
    "print('Accuracy Score:', accuracy_score(t_test, y_test))\n",
    "print('Confusion Matrix:')\n",
    "print(confusion_matrix(t_test,y_test))\n",
    "print('\\nPerformance Report: ')\n",
    "print(classification_report(t_test,y_test))\n",
    "print('\\n\\n')\n",
    "\n",
    "\n"
   ]
  },
  {
   "cell_type": "code",
   "execution_count": 21,
   "id": "9ce9d831-02c1-4ad5-b85d-c2b452afb1d5",
   "metadata": {
    "tags": []
   },
   "outputs": [
    {
     "name": "stdout",
     "output_type": "stream",
     "text": [
      "Feature size: 182\n",
      "\n",
      "\n",
      " Test Set Performance for ISOMAP\n",
      "Accuracy Score: 0.10208333333333333\n",
      "Confusion Matrix:\n",
      "[[23 34 36 25 20 30 38 22 26 21]\n",
      " [25 48 22 18 29 24 31 24 34 15]\n",
      " [34 37 35 28 22 23 28 25 26 29]\n",
      " [28 21 41 30 34 26 25 30 30 30]\n",
      " [44 40 30 17 18 28 39 25 29 39]\n",
      " [38 46 24 25 25 35 25 26 26 27]\n",
      " [24 38 40 18 32 26 21 29 23 40]\n",
      " [30 34 22 24 31 27 32 21 25 32]\n",
      " [33 34 24 25 20 37 29 14 38 38]\n",
      " [24 34 35 26 24 32 29 26 31 25]]\n",
      "\n",
      "Performance Report: \n",
      "              precision    recall  f1-score   support\n",
      "\n",
      "         0.0       0.08      0.08      0.08       275\n",
      "         1.0       0.13      0.18      0.15       270\n",
      "         2.0       0.11      0.12      0.12       287\n",
      "         3.0       0.13      0.10      0.11       295\n",
      "         4.0       0.07      0.06      0.06       309\n",
      "         5.0       0.12      0.12      0.12       297\n",
      "         6.0       0.07      0.07      0.07       291\n",
      "         7.0       0.09      0.08      0.08       278\n",
      "         8.0       0.13      0.13      0.13       292\n",
      "         9.0       0.08      0.09      0.09       286\n",
      "\n",
      "    accuracy                           0.10      2880\n",
      "   macro avg       0.10      0.10      0.10      2880\n",
      "weighted avg       0.10      0.10      0.10      2880\n",
      "\n",
      "\n",
      "\n",
      "\n"
     ]
    }
   ],
   "source": [
    "#Tranformation into lower dimension for Isomap\n",
    "\n",
    "ISO = joblib.load('Models/Isomap4.pkl')\n",
    "clf = joblib.load('Models/isoclf.pkl')\n",
    "\n",
    "x_test_iso = ISO.fit_transform(X_test_resized) # ?????\n",
    "\n",
    "print(\"Feature size:\",x_test_iso.shape[1])\n",
    "\n",
    "\n",
    "y_test = clf.predict(x_test_iso)\n",
    "\n",
    "print('\\n\\n Test Set Performance for ISOMAP')\n",
    "print('Accuracy Score:', accuracy_score(t_test, y_test))\n",
    "print('Confusion Matrix:')\n",
    "print(confusion_matrix(t_test,y_test))\n",
    "print('\\nPerformance Report: ')\n",
    "print(classification_report(t_test,y_test))\n",
    "print('\\n\\n')\n"
   ]
  },
  {
   "cell_type": "code",
   "execution_count": null,
   "id": "fad2dffd-9d01-4d27-a797-445813e0088d",
   "metadata": {},
   "outputs": [],
   "source": []
  }
 ],
 "metadata": {
  "kernelspec": {
   "display_name": "UFRC Python-3.10",
   "language": "python",
   "name": "python3-3.10-ufrc"
  },
  "language_info": {
   "codemirror_mode": {
    "name": "ipython",
    "version": 3
   },
   "file_extension": ".py",
   "mimetype": "text/x-python",
   "name": "python",
   "nbconvert_exporter": "python",
   "pygments_lexer": "ipython3",
   "version": "3.10.5"
  }
 },
 "nbformat": 4,
 "nbformat_minor": 5
}
